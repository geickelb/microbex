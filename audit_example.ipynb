{
 "cells": [
  {
   "cell_type": "code",
   "execution_count": 2,
   "metadata": {},
   "outputs": [],
   "source": [
    "import microbex.microbex as me\n",
    "import pandas as pd\n",
    "import os"
   ]
  },
  {
   "cell_type": "code",
   "execution_count": 24,
   "metadata": {},
   "outputs": [],
   "source": [
    "sample_data=pd.read_csv('microbex/sample_data/sample_data.csv')"
   ]
  },
  {
   "cell_type": "code",
   "execution_count": 25,
   "metadata": {},
   "outputs": [],
   "source": [
    "## assigning an example to audit\n",
    "sample_data.loc[4,'parsed_note']='Aminoglycosides alone are not effective against enterococci. For this isolate'"
   ]
  },
  {
   "cell_type": "code",
   "execution_count": null,
   "metadata": {},
   "outputs": [],
   "source": []
  },
  {
   "cell_type": "markdown",
   "metadata": {},
   "source": [
    "# a me.Microbex object is instantiated using:\n",
    "\n",
    "* dataframe with atleast 3 cols: note_section, culture_id, and visit_id\n",
    "* kwargs to specify the names of each of the required cols:\n",
    "    * parsed_note or note_section:\n",
    "        * microbiology report txt in either a raw or (perferable) chopped up into components (eg gram stain/growth report/ab susceptability)\n",
    "    * culture_id:\n",
    "        * a primary key tied to a given sample/specimen + microbiological exam order.\n",
    "        * Often a microbiology order can be tied to numerous components (eg gram stain/growth report/ ab susceptability). additionally these can be appended to same report or added as a new report tied to same sample + order. all of these tied to a sample+order should share same culture_id\n",
    "    * visit_id:\n",
    "        * primary key for patient's visit/encounter\n",
    "        * can be 1-many:1 to culture_id or 1:1 (in which case can specify as culture_id)\n",
    "in some datasets a patient may have multiple cultures performed in a visit/encounter."
   ]
  },
  {
   "cell_type": "code",
   "execution_count": 26,
   "metadata": {},
   "outputs": [],
   "source": [
    "obj1= me.Microbex(\n",
    "    sample_data,\n",
    "    text_col='parsed_note',\n",
    "    culture_id_col='culture_id',\n",
    "    visit_id_col='visit_id'\n",
    ")\n"
   ]
  },
  {
   "cell_type": "markdown",
   "metadata": {},
   "source": [
    "# a Microbex object can be annotated with the .annotate() method. returns a .annotated_data attribute and .annotate_params"
   ]
  },
  {
   "cell_type": "code",
   "execution_count": 27,
   "metadata": {},
   "outputs": [
    {
     "name": "stdout",
     "output_type": "stream",
     "text": [
      "step 0: simple cleaning of parsed_note + annotation of descriptive info for specimen and quantitative information\n",
      "step1: parses blatent negative results and non-bacterial species.\n",
      "     step1 runtime: 0.1212 seconds\n",
      "step2: negative row species captures + sequestering the negative rows from those without any capture before downstream positive annotations.\n",
      "n= 0 rows (0 unique cultures) added back from the neg list via virus/yeast + bacerial species exemption\n",
      "     step2 runtime: 0.9196 seconds\n",
      "step3: annotating unspecific positive rows.\n",
      "     step3 runtime: 0.0569 seconds\n",
      "step4: annotating species specific positives.\n",
      "     step4 runtime: 0.3552 seconds\n",
      "step5: annotating staph positives with (optional setting) handling for coagulase negative staph; setting = False\n",
      "step6: annotating any previously positive row with unclear language.\n",
      "     step6 runtime: 0.0824 seconds\n",
      "step7: final datastructure management, mapping species captures to OHDSI ontology, and finalizing positive culture status annotation.\n",
      "     step7 runtime: 0.0824 seconds\n",
      "##### total runtime: 1.7091 seconds #####\n",
      "Annotation Finished, see class_object.annotated_data for annotation output.\n"
     ]
    }
   ],
   "source": [
    "obj1.annotate(\n",
    "    staph_neg_correction=False, \n",
    "    specimen_col=None,\n",
    "    review_suggestions=False,\n",
    "    likelyneg_block_skip=False\n",
    ")"
   ]
  },
  {
   "cell_type": "code",
   "execution_count": 28,
   "metadata": {},
   "outputs": [
    {
     "data": {
      "text/html": [
       "<div>\n",
       "<style scoped>\n",
       "    .dataframe tbody tr th:only-of-type {\n",
       "        vertical-align: middle;\n",
       "    }\n",
       "\n",
       "    .dataframe tbody tr th {\n",
       "        vertical-align: top;\n",
       "    }\n",
       "\n",
       "    .dataframe thead th {\n",
       "        text-align: right;\n",
       "    }\n",
       "</style>\n",
       "<table border=\"1\" class=\"dataframe\">\n",
       "  <thead>\n",
       "    <tr style=\"text-align: right;\">\n",
       "      <th></th>\n",
       "      <th>culture_id</th>\n",
       "      <th>visit_id</th>\n",
       "      <th>parsed_note</th>\n",
       "      <th>pos_culture_audit1</th>\n",
       "      <th>pos_culture_audit2</th>\n",
       "      <th>pos_culture_status</th>\n",
       "      <th>species_capt_all</th>\n",
       "      <th>OHDSI_ID</th>\n",
       "      <th>OHDSI_Concept</th>\n",
       "      <th>regex_source</th>\n",
       "      <th>...</th>\n",
       "      <th>species_regex</th>\n",
       "      <th>pos_quant_capt</th>\n",
       "      <th>pos_quant_regex</th>\n",
       "      <th>pos_qual_capt</th>\n",
       "      <th>pos_qual_regex</th>\n",
       "      <th>unclear_capt</th>\n",
       "      <th>unclear_regex</th>\n",
       "      <th>likelyneg_capt</th>\n",
       "      <th>likelyneg_regex</th>\n",
       "      <th>regex_capture_quant</th>\n",
       "    </tr>\n",
       "  </thead>\n",
       "  <tbody>\n",
       "    <tr>\n",
       "      <th>0</th>\n",
       "      <td>0</td>\n",
       "      <td>0</td>\n",
       "      <td>Many species present</td>\n",
       "      <td>positive_unspecific1</td>\n",
       "      <td>positive</td>\n",
       "      <td>1</td>\n",
       "      <td>[positive_unspecific]</td>\n",
       "      <td>[4001594]</td>\n",
       "      <td>[Non-specific]</td>\n",
       "      <td>positive_unspecific</td>\n",
       "      <td>...</td>\n",
       "      <td>[]</td>\n",
       "      <td>[]</td>\n",
       "      <td>[]</td>\n",
       "      <td>[many species present, species present]</td>\n",
       "      <td>[(multiple|many|numerous|\\d\\sor\\smore|\\d\\+|\\&gt;\\...</td>\n",
       "      <td>[]</td>\n",
       "      <td>[]</td>\n",
       "      <td>[]</td>\n",
       "      <td>[]</td>\n",
       "      <td>not_captured</td>\n",
       "    </tr>\n",
       "    <tr>\n",
       "      <th>1</th>\n",
       "      <td>1</td>\n",
       "      <td>1</td>\n",
       "      <td>alpha hemolytic streptococci in anaerobic bottle</td>\n",
       "      <td>species_positive19</td>\n",
       "      <td>positive</td>\n",
       "      <td>1</td>\n",
       "      <td>[streptococci in, streptococci]</td>\n",
       "      <td>[4194525, 4240344]</td>\n",
       "      <td>[Streptococcus iniae, Streptococcus]</td>\n",
       "      <td>species_positive</td>\n",
       "      <td>...</td>\n",
       "      <td>[streptococc[ius]{1,2}[ ]?[A-Za-z]*, (beta hem...</td>\n",
       "      <td>[]</td>\n",
       "      <td>[]</td>\n",
       "      <td>[]</td>\n",
       "      <td>[]</td>\n",
       "      <td>[]</td>\n",
       "      <td>[]</td>\n",
       "      <td>[]</td>\n",
       "      <td>[]</td>\n",
       "      <td>not_captured</td>\n",
       "    </tr>\n",
       "    <tr>\n",
       "      <th>2</th>\n",
       "      <td>1</td>\n",
       "      <td>1</td>\n",
       "      <td>coagulase negative Staphylococcus species in b...</td>\n",
       "      <td>pos_staph</td>\n",
       "      <td>positive</td>\n",
       "      <td>1</td>\n",
       "      <td>[staphylococcus coagulase negative]</td>\n",
       "      <td>[4020318]</td>\n",
       "      <td>[Staphylococcus, coagulase negative]</td>\n",
       "      <td>species_specific_staph</td>\n",
       "      <td>...</td>\n",
       "      <td>[staphylococcus coagulase negative]</td>\n",
       "      <td>[]</td>\n",
       "      <td>[]</td>\n",
       "      <td>[]</td>\n",
       "      <td>[]</td>\n",
       "      <td>[]</td>\n",
       "      <td>[]</td>\n",
       "      <td>[]</td>\n",
       "      <td>[]</td>\n",
       "      <td>not_captured</td>\n",
       "    </tr>\n",
       "    <tr>\n",
       "      <th>3</th>\n",
       "      <td>1</td>\n",
       "      <td>1</td>\n",
       "      <td>gram positive cocci in clusters in bottle with...</td>\n",
       "      <td>species_positive14</td>\n",
       "      <td>positive</td>\n",
       "      <td>1</td>\n",
       "      <td>[gram positive cocci]</td>\n",
       "      <td>[4177803]</td>\n",
       "      <td>[Gram positive coccobacillus]</td>\n",
       "      <td>species_positive</td>\n",
       "      <td>...</td>\n",
       "      <td>[gram positive cocc[ius]{1,2}]</td>\n",
       "      <td>[]</td>\n",
       "      <td>[]</td>\n",
       "      <td>[]</td>\n",
       "      <td>[]</td>\n",
       "      <td>[]</td>\n",
       "      <td>[]</td>\n",
       "      <td>[]</td>\n",
       "      <td>[]</td>\n",
       "      <td>not_captured</td>\n",
       "    </tr>\n",
       "    <tr>\n",
       "      <th>4</th>\n",
       "      <td>1</td>\n",
       "      <td>1</td>\n",
       "      <td>Aminoglycosides alone are not effective agains...</td>\n",
       "      <td>species_positive21</td>\n",
       "      <td>positive</td>\n",
       "      <td>1</td>\n",
       "      <td>[enterococci]</td>\n",
       "      <td>[4174874]</td>\n",
       "      <td>[Enterococcus canis]</td>\n",
       "      <td>species_positive</td>\n",
       "      <td>...</td>\n",
       "      <td>[enterococc[ius]{1,2}]</td>\n",
       "      <td>[]</td>\n",
       "      <td>[]</td>\n",
       "      <td>[]</td>\n",
       "      <td>[]</td>\n",
       "      <td>[]</td>\n",
       "      <td>[]</td>\n",
       "      <td>[]</td>\n",
       "      <td>[]</td>\n",
       "      <td>not_captured</td>\n",
       "    </tr>\n",
       "  </tbody>\n",
       "</table>\n",
       "<p>5 rows × 32 columns</p>\n",
       "</div>"
      ],
      "text/plain": [
       "   culture_id  visit_id                                        parsed_note  \\\n",
       "0           0         0                               Many species present   \n",
       "1           1         1   alpha hemolytic streptococci in anaerobic bottle   \n",
       "2           1         1  coagulase negative Staphylococcus species in b...   \n",
       "3           1         1  gram positive cocci in clusters in bottle with...   \n",
       "4           1         1  Aminoglycosides alone are not effective agains...   \n",
       "\n",
       "     pos_culture_audit1 pos_culture_audit2  pos_culture_status  \\\n",
       "0  positive_unspecific1           positive                   1   \n",
       "1    species_positive19           positive                   1   \n",
       "2             pos_staph           positive                   1   \n",
       "3    species_positive14           positive                   1   \n",
       "4    species_positive21           positive                   1   \n",
       "\n",
       "                      species_capt_all            OHDSI_ID  \\\n",
       "0                [positive_unspecific]           [4001594]   \n",
       "1      [streptococci in, streptococci]  [4194525, 4240344]   \n",
       "2  [staphylococcus coagulase negative]           [4020318]   \n",
       "3                [gram positive cocci]           [4177803]   \n",
       "4                        [enterococci]           [4174874]   \n",
       "\n",
       "                          OHDSI_Concept            regex_source  ...  \\\n",
       "0                        [Non-specific]     positive_unspecific  ...   \n",
       "1  [Streptococcus iniae, Streptococcus]        species_positive  ...   \n",
       "2  [Staphylococcus, coagulase negative]  species_specific_staph  ...   \n",
       "3         [Gram positive coccobacillus]        species_positive  ...   \n",
       "4                  [Enterococcus canis]        species_positive  ...   \n",
       "\n",
       "                                       species_regex pos_quant_capt  \\\n",
       "0                                                 []             []   \n",
       "1  [streptococc[ius]{1,2}[ ]?[A-Za-z]*, (beta hem...             []   \n",
       "2                [staphylococcus coagulase negative]             []   \n",
       "3                     [gram positive cocc[ius]{1,2}]             []   \n",
       "4                             [enterococc[ius]{1,2}]             []   \n",
       "\n",
       "  pos_quant_regex                            pos_qual_capt  \\\n",
       "0              []  [many species present, species present]   \n",
       "1              []                                       []   \n",
       "2              []                                       []   \n",
       "3              []                                       []   \n",
       "4              []                                       []   \n",
       "\n",
       "                                      pos_qual_regex unclear_capt  \\\n",
       "0  [(multiple|many|numerous|\\d\\sor\\smore|\\d\\+|\\>\\...           []   \n",
       "1                                                 []           []   \n",
       "2                                                 []           []   \n",
       "3                                                 []           []   \n",
       "4                                                 []           []   \n",
       "\n",
       "  unclear_regex likelyneg_capt likelyneg_regex regex_capture_quant  \n",
       "0            []             []              []        not_captured  \n",
       "1            []             []              []        not_captured  \n",
       "2            []             []              []        not_captured  \n",
       "3            []             []              []        not_captured  \n",
       "4            []             []              []        not_captured  \n",
       "\n",
       "[5 rows x 32 columns]"
      ]
     },
     "execution_count": 28,
     "metadata": {},
     "output_type": "execute_result"
    }
   ],
   "source": [
    "obj1.annotated_data.head()"
   ]
  },
  {
   "cell_type": "code",
   "execution_count": 29,
   "metadata": {},
   "outputs": [
    {
     "data": {
      "text/plain": [
       "{'staph_neg_correction': False,\n",
       " 'specimen_col': None,\n",
       " 'review_suggestions': False,\n",
       " 'likelyneg_block_skip': False}"
      ]
     },
     "execution_count": 29,
     "metadata": {},
     "output_type": "execute_result"
    }
   ],
   "source": [
    "obj1.annotate_params"
   ]
  },
  {
   "cell_type": "code",
   "execution_count": null,
   "metadata": {},
   "outputs": [],
   "source": []
  },
  {
   "cell_type": "code",
   "execution_count": null,
   "metadata": {},
   "outputs": [],
   "source": []
  },
  {
   "cell_type": "markdown",
   "metadata": {},
   "source": [
    "# split into pos and neg bacteria positive status\n",
    "* for each look at the top x most frequent note texts\n",
    "* if this isn't helpful or not granular enough, can look at top x rank of:\n",
    "    * result_binary: which will show the enumerated index num of the \n",
    "    * result_binary2"
   ]
  },
  {
   "cell_type": "code",
   "execution_count": 30,
   "metadata": {},
   "outputs": [],
   "source": [
    "pos_df= obj1.annotated_data[obj1.annotated_data['pos_culture_status']==1]\n",
    "neg_df= obj1.annotated_data[obj1.annotated_data['pos_culture_status']==0]"
   ]
  },
  {
   "cell_type": "code",
   "execution_count": 31,
   "metadata": {},
   "outputs": [
    {
     "data": {
      "text/plain": [
       "gram negative bacilli in aerobic and anaerobic bottles                               2\n",
       "gram positive cocci in clusters in bottle with antibiotic removal resin              2\n",
       "Klebsiella pneumoniae in aerobic and anaerobic bottles                               2\n",
       "Many species present                                                                 2\n",
       "Klebsiella pneumoniae strain 2 in anaerobic bottle                                   1\n",
       "Many Klebsiella pneumoniae                                                           1\n",
       "gram negative bacilli in bottle with antibiotic removal resin                        1\n",
       "Klebsiella pneumoniae in bottle with antibiotic removal resin                        1\n",
       "alpha hemolytic streptococci in anaerobic bottle                                     1\n",
       "gram negative bacilli in anaerobic bottle                                            1\n",
       "coagulase negative Staphylococcus species strain 1 in bottle with antibiotic         1\n",
       "coagulase negative Staphylococcus species in bottle with antibiotic removal resin    1\n",
       "coagulase negative Staphylococcus species strain 2 in bottle with antibiotic         1\n",
       "non-hemolytic streptococci in anaerobic bottle                                       1\n",
       "Many Pseudomonas aeruginosa                                                          1\n",
       "Aminoglycosides alone are not effective against enterococci. For this isolate        1\n",
       "Many Acinetobacter baumanii                                                          1\n",
       "gram positive cocci in chains in anaerobic bottle                                    1\n",
       "Name: parsed_note, dtype: int64"
      ]
     },
     "execution_count": 31,
     "metadata": {},
     "output_type": "execute_result"
    }
   ],
   "source": [
    "pos_df['parsed_note'].value_counts()"
   ]
  },
  {
   "cell_type": "code",
   "execution_count": 32,
   "metadata": {},
   "outputs": [
    {
     "data": {
      "text/plain": [
       "species_positive2       5\n",
       "species_positive0       4\n",
       "pos_staph               3\n",
       "species_positive14      3\n",
       "positive_unspecific1    2\n",
       "species_positive19      2\n",
       "species_positive21      1\n",
       "species_positive6       1\n",
       "species_positive1       1\n",
       "Name: pos_culture_audit1, dtype: int64"
      ]
     },
     "execution_count": 32,
     "metadata": {},
     "output_type": "execute_result"
    }
   ],
   "source": [
    "pos_df['pos_culture_audit1'].value_counts()"
   ]
  },
  {
   "cell_type": "code",
   "execution_count": 33,
   "metadata": {},
   "outputs": [
    {
     "data": {
      "text/html": [
       "<div>\n",
       "<style scoped>\n",
       "    .dataframe tbody tr th:only-of-type {\n",
       "        vertical-align: middle;\n",
       "    }\n",
       "\n",
       "    .dataframe tbody tr th {\n",
       "        vertical-align: top;\n",
       "    }\n",
       "\n",
       "    .dataframe thead th {\n",
       "        text-align: right;\n",
       "    }\n",
       "</style>\n",
       "<table border=\"1\" class=\"dataframe\">\n",
       "  <thead>\n",
       "    <tr style=\"text-align: right;\">\n",
       "      <th></th>\n",
       "      <th>culture_id</th>\n",
       "      <th>visit_id</th>\n",
       "      <th>parsed_note</th>\n",
       "      <th>pos_culture_audit1</th>\n",
       "      <th>pos_culture_audit2</th>\n",
       "      <th>pos_culture_status</th>\n",
       "      <th>species_capt_all</th>\n",
       "      <th>OHDSI_ID</th>\n",
       "      <th>OHDSI_Concept</th>\n",
       "      <th>regex_source</th>\n",
       "      <th>...</th>\n",
       "      <th>species_regex</th>\n",
       "      <th>pos_quant_capt</th>\n",
       "      <th>pos_quant_regex</th>\n",
       "      <th>pos_qual_capt</th>\n",
       "      <th>pos_qual_regex</th>\n",
       "      <th>unclear_capt</th>\n",
       "      <th>unclear_regex</th>\n",
       "      <th>likelyneg_capt</th>\n",
       "      <th>likelyneg_regex</th>\n",
       "      <th>regex_capture_quant</th>\n",
       "    </tr>\n",
       "  </thead>\n",
       "  <tbody>\n",
       "    <tr>\n",
       "      <th>4</th>\n",
       "      <td>1</td>\n",
       "      <td>1</td>\n",
       "      <td>Aminoglycosides alone are not effective agains...</td>\n",
       "      <td>species_positive21</td>\n",
       "      <td>positive</td>\n",
       "      <td>1</td>\n",
       "      <td>[enterococci]</td>\n",
       "      <td>[4174874]</td>\n",
       "      <td>[Enterococcus canis]</td>\n",
       "      <td>species_positive</td>\n",
       "      <td>...</td>\n",
       "      <td>[enterococc[ius]{1,2}]</td>\n",
       "      <td>[]</td>\n",
       "      <td>[]</td>\n",
       "      <td>[]</td>\n",
       "      <td>[]</td>\n",
       "      <td>[]</td>\n",
       "      <td>[]</td>\n",
       "      <td>[]</td>\n",
       "      <td>[]</td>\n",
       "      <td>not_captured</td>\n",
       "    </tr>\n",
       "  </tbody>\n",
       "</table>\n",
       "<p>1 rows × 32 columns</p>\n",
       "</div>"
      ],
      "text/plain": [
       "   culture_id  visit_id                                        parsed_note  \\\n",
       "4           1         1  Aminoglycosides alone are not effective agains...   \n",
       "\n",
       "   pos_culture_audit1 pos_culture_audit2  pos_culture_status species_capt_all  \\\n",
       "4  species_positive21           positive                   1    [enterococci]   \n",
       "\n",
       "    OHDSI_ID         OHDSI_Concept      regex_source  ...  \\\n",
       "4  [4174874]  [Enterococcus canis]  species_positive  ...   \n",
       "\n",
       "            species_regex pos_quant_capt pos_quant_regex pos_qual_capt  \\\n",
       "4  [enterococc[ius]{1,2}]             []              []            []   \n",
       "\n",
       "  pos_qual_regex unclear_capt unclear_regex likelyneg_capt likelyneg_regex  \\\n",
       "4             []           []            []             []              []   \n",
       "\n",
       "  regex_capture_quant  \n",
       "4        not_captured  \n",
       "\n",
       "[1 rows x 32 columns]"
      ]
     },
     "execution_count": 33,
     "metadata": {},
     "output_type": "execute_result"
    }
   ],
   "source": [
    "pos_df[pos_df['parsed_note']=='Aminoglycosides alone are not effective against enterococci. For this isolate']"
   ]
  },
  {
   "cell_type": "markdown",
   "metadata": {},
   "source": [
    "### example:\n",
    "* above we see \"Aminoglycosides alone are not effective against enterococci. For this isolate...\" was classified as positive.\n",
    "    * this looks like a note section that was providing context to an result rather than being a primary result. thus should be ignored. \n",
    "    \n",
    "### todo: need to add exemption for this such that it and other similar cases will be classified as negative from here on\n",
    "* we have two choices for where to account for this, first: negative_captures, which is the most broad reaching since it is applied first and will dictate if a case has a chance to be considered positive downstream. The other option is in \"unclear\", which is applied on the last step of the positive block and is used as a way to catch false positives. \n",
    "* for this example Let's do the \"unclear\" \n",
    "* please see supplimental_use_guide1.md for detailed description of classification logic flow for additional context.\n",
    "* for this case, let's assume that \"Aminoglycosides alone are not effective...\" is the common string in these false positives.\n",
    "    * to address this, we can make a enterococci capture with a positive look behind for the above phrase and add this to the unclear list.\n"
   ]
  },
  {
   "cell_type": "markdown",
   "metadata": {},
   "source": [
    "### first, look up the regex list of interest:\n",
    "* see supplimental_use_guide1.md for names and descriptions of all regex lists\n",
    "* all regex lists are stored in as class attributes, so a Microbex class must be instiantiated first before adjusting classes.\n",
    "\n",
    ", see below for example of how to look at lists, and append a regex to the list. \n",
    "\n",
    "\n",
    "* NOTE: this addition only appends the regex to teh list in the given run, if an kernal instance were to be reset, the addition would need to be done again.\n",
    "* this same workflow can be performed to remove or modify a regex in the lists."
   ]
  },
  {
   "cell_type": "code",
   "execution_count": 34,
   "metadata": {},
   "outputs": [
    {
     "data": {
      "text/plain": [
       "['negative for',\n",
       " 'no\\\\sgrowth',\n",
       " 'no acid fast bacilli',\n",
       " 'acid fast bacilli negative',\n",
       " '(?<!\\\\bno\\\\b\\\\s)(?<!\\\\bnot\\\\b\\\\s)\\\\bnormal\\\\sflora\\\\b',\n",
       " 'no\\\\s+(?!normal flora)([a-zA-Z]+\\\\s*){1,4}((\\\\bisolated\\\\b)|(\\\\bfound\\\\b)|(\\\\bgrow[nth]{1,2}\\\\b)|(\\\\bseen\\\\b)|(\\\\bpresent\\\\b)|(\\\\bdetected\\\\b)|(\\\\bgrown\\\\b)|(\\\\bseen\\\\b)|(\\\\bcultured\\\\b))',\n",
       " '(?<!\\\\bno\\\\b\\\\s)(?<!\\\\bnot\\\\b\\\\s)\\\\bnormal\\\\s(\\\\s?\\\\w{2,}\\\\s)flora',\n",
       " 'no\\\\s(\\\\s?\\\\b\\\\w*[-()\\\\s]*\\\\b){0,6}\\\\s?isolated',\n",
       " 'culture\\\\s(\\\\s?\\\\b\\\\w*[-()]*\\\\b){0,6}\\\\s?negative',\n",
       " 'no\\\\sgrowth.*\\\\(detection\\\\slevel\\\\sof\\\\s\\\\d+,?\\\\d+\\\\s?colonies',\n",
       " '^negative$',\n",
       " 'species\\\\snot\\\\sisolated',\n",
       " 'mixed\\\\s\\\\w{0,}\\\\s?flora',\n",
       " '(?<!resistance)(?<!susceptibility)\\\\s+not\\\\sdetected|indicated',\n",
       " ':\\\\snegative$',\n",
       " 'no\\\\s(predominant|prevelant|identifyable|isolated)\\\\s(organism|bacteria|colony|growth)',\n",
       " 'parasite',\n",
       " '(?<!un)usual\\\\s(\\\\s?\\\\w{2,}\\\\s)flora',\n",
       " '^no normal flora\\\\s?((\\\\bisolated\\\\b)|(\\\\bfound\\\\b)|(\\\\bgrow[nth]{1,2}\\\\b)|(\\\\bseen\\\\b)|(\\\\bpresent\\\\b)|(\\\\bdetected\\\\b)|(\\\\bgrown\\\\b)|(\\\\bseen\\\\b)|(\\\\bcultured\\\\b)|(\\\\bidentified\\\\b))?$']"
      ]
     },
     "execution_count": 34,
     "metadata": {},
     "output_type": "execute_result"
    }
   ],
   "source": [
    "##negative regex list:\n",
    "\n",
    "obj1.negative_regex_list"
   ]
  },
  {
   "cell_type": "code",
   "execution_count": 35,
   "metadata": {},
   "outputs": [
    {
     "data": {
      "text/plain": [
       "['culture complete',\n",
       " '(?<!isolated)(?<!isolated )(?<!present)(?<!present )(?<!detected)(?<!detected )(unable to determine)(?!\\\\s?colony count)',\n",
       " 'see (note|below|scanned|comment)',\n",
       " '(left|right) hand',\n",
       " 'cannot be performed',\n",
       " 'test not performed',\n",
       " \"\\\\d\\\\+\\\\s?(wbc|rbc)[\\\\']?s\\\\sseen\",\n",
       " '\\\\+\\\\sepithelial\\\\scells',\n",
       " 'culture in progress',\n",
       " 'neutrop',\n",
       " 'contamin',\n",
       " \"presence.{0,20}absence.{0,40}(cannot|can\\\\'?t)\\\\s?be\\\\s?(determined|detected)\",\n",
       " 'comments:\\\\s{0,5}validation studies at labcorp have demonstrated',\n",
       " 'comments:\\\\s{0,4}this assay is specific for',\n",
       " '^comments:',\n",
       " 'indeterminate',\n",
       " \"cannot|can'?t be ruled out\",\n",
       " 'below the detection|lod|limit of detection',\n",
       " 'no\\\\s(?=.{0,75},).{0,75},(?=.{0,75}or).{0,75}or(?=(.*?\\\\s.+?isolated)|(.*?\\\\s.+?detected)).*?\\\\.?']"
      ]
     },
     "execution_count": 35,
     "metadata": {},
     "output_type": "execute_result"
    }
   ],
   "source": [
    "#unclear regex list:\n",
    "obj1.unclear_regex_list"
   ]
  },
  {
   "cell_type": "code",
   "execution_count": 36,
   "metadata": {},
   "outputs": [],
   "source": [
    "### adding a regex to account for this type of language and avoid the false positive:\n",
    "obj1.unclear_regex_list.append(r'(?<=aminoglycosides alone are not effective against )enterococci')"
   ]
  },
  {
   "cell_type": "code",
   "execution_count": 37,
   "metadata": {},
   "outputs": [
    {
     "data": {
      "text/plain": [
       "['culture complete',\n",
       " '(?<!isolated)(?<!isolated )(?<!present)(?<!present )(?<!detected)(?<!detected )(unable to determine)(?!\\\\s?colony count)',\n",
       " 'see (note|below|scanned|comment)',\n",
       " '(left|right) hand',\n",
       " 'cannot be performed',\n",
       " 'test not performed',\n",
       " \"\\\\d\\\\+\\\\s?(wbc|rbc)[\\\\']?s\\\\sseen\",\n",
       " '\\\\+\\\\sepithelial\\\\scells',\n",
       " 'culture in progress',\n",
       " 'neutrop',\n",
       " 'contamin',\n",
       " \"presence.{0,20}absence.{0,40}(cannot|can\\\\'?t)\\\\s?be\\\\s?(determined|detected)\",\n",
       " 'comments:\\\\s{0,5}validation studies at labcorp have demonstrated',\n",
       " 'comments:\\\\s{0,4}this assay is specific for',\n",
       " '^comments:',\n",
       " 'indeterminate',\n",
       " \"cannot|can'?t be ruled out\",\n",
       " 'below the detection|lod|limit of detection',\n",
       " 'no\\\\s(?=.{0,75},).{0,75},(?=.{0,75}or).{0,75}or(?=(.*?\\\\s.+?isolated)|(.*?\\\\s.+?detected)).*?\\\\.?',\n",
       " '(?<=aminoglycosides alone are not effective against )enterococci']"
      ]
     },
     "execution_count": 37,
     "metadata": {},
     "output_type": "execute_result"
    }
   ],
   "source": [
    "### confirm the regex has indeed been added:\n",
    "obj1.unclear_regex_list"
   ]
  },
  {
   "cell_type": "code",
   "execution_count": 38,
   "metadata": {},
   "outputs": [
    {
     "name": "stdout",
     "output_type": "stream",
     "text": [
      "step 0: simple cleaning of parsed_note + annotation of descriptive info for specimen and quantitative information\n",
      "step1: parses blatent negative results and non-bacterial species.\n",
      "     step1 runtime: 0.1070 seconds\n",
      "step2: negative row species captures + sequestering the negative rows from those without any capture before downstream positive annotations.\n",
      "n= 0 rows (0 unique cultures) added back from the neg list via virus/yeast + bacerial species exemption\n",
      "     step2 runtime: 0.7161 seconds\n",
      "step3: annotating unspecific positive rows.\n",
      "     step3 runtime: 0.0380 seconds\n",
      "step4: annotating species specific positives.\n",
      "     step4 runtime: 0.2560 seconds\n",
      "step5: annotating staph positives with (optional setting) handling for coagulase negative staph; setting = False\n",
      "step6: annotating any previously positive row with unclear language.\n",
      "     step6 runtime: 0.0699 seconds\n",
      "step7: final datastructure management, mapping species captures to OHDSI ontology, and finalizing positive culture status annotation.\n",
      "     step7 runtime: 0.0699 seconds\n",
      "##### total runtime: 1.3447 seconds #####\n",
      "Annotation Finished, see class_object.annotated_data for annotation output.\n"
     ]
    }
   ],
   "source": [
    "### rerun annotate:\n",
    "obj1.annotate(\n",
    "    staph_neg_correction=False, \n",
    "    specimen_col=None,\n",
    "    review_suggestions=False,\n",
    "    likelyneg_block_skip=False\n",
    ")"
   ]
  },
  {
   "cell_type": "code",
   "execution_count": 40,
   "metadata": {},
   "outputs": [
    {
     "data": {
      "text/html": [
       "<div>\n",
       "<style scoped>\n",
       "    .dataframe tbody tr th:only-of-type {\n",
       "        vertical-align: middle;\n",
       "    }\n",
       "\n",
       "    .dataframe tbody tr th {\n",
       "        vertical-align: top;\n",
       "    }\n",
       "\n",
       "    .dataframe thead th {\n",
       "        text-align: right;\n",
       "    }\n",
       "</style>\n",
       "<table border=\"1\" class=\"dataframe\">\n",
       "  <thead>\n",
       "    <tr style=\"text-align: right;\">\n",
       "      <th></th>\n",
       "      <th>pos_culture_audit1</th>\n",
       "      <th>unclear_capt</th>\n",
       "      <th>OHDSI_Concept</th>\n",
       "      <th>species_capt</th>\n",
       "      <th>pos_culture_status</th>\n",
       "    </tr>\n",
       "  </thead>\n",
       "  <tbody>\n",
       "    <tr>\n",
       "      <th>4</th>\n",
       "      <td>unclear19</td>\n",
       "      <td>[enterococci]</td>\n",
       "      <td>[Enterococcus canis]</td>\n",
       "      <td>[enterococci]</td>\n",
       "      <td>0</td>\n",
       "    </tr>\n",
       "  </tbody>\n",
       "</table>\n",
       "</div>"
      ],
      "text/plain": [
       "  pos_culture_audit1   unclear_capt         OHDSI_Concept   species_capt  \\\n",
       "4          unclear19  [enterococci]  [Enterococcus canis]  [enterococci]   \n",
       "\n",
       "   pos_culture_status  \n",
       "4                   0  "
      ]
     },
     "metadata": {},
     "output_type": "display_data"
    }
   ],
   "source": [
    "#confirm the classification changed and the correct negative classification is now reflected:\n",
    "display(obj1.annotated_data.loc[\n",
    "    obj1.annotated_data['parsed_note']=='Aminoglycosides alone are not effective against enterococci. For this isolate',\n",
    "    ['pos_culture_audit1','unclear_capt','OHDSI_Concept','species_capt','pos_culture_status']])"
   ]
  },
  {
   "cell_type": "code",
   "execution_count": null,
   "metadata": {},
   "outputs": [],
   "source": []
  },
  {
   "cell_type": "code",
   "execution_count": null,
   "metadata": {},
   "outputs": [],
   "source": []
  }
 ],
 "metadata": {
  "kernelspec": {
   "display_name": "Python 3",
   "language": "python",
   "name": "python3"
  },
  "language_info": {
   "codemirror_mode": {
    "name": "ipython",
    "version": 3
   },
   "file_extension": ".py",
   "mimetype": "text/x-python",
   "name": "python",
   "nbconvert_exporter": "python",
   "pygments_lexer": "ipython3",
   "version": "3.7.7"
  }
 },
 "nbformat": 4,
 "nbformat_minor": 4
}
